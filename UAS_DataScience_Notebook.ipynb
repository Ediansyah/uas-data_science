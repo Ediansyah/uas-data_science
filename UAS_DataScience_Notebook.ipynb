{
 "cells": [
  {
   "cell_type": "markdown",
   "id": "22543f8f",
   "metadata": {},
   "source": [
    "# UAS Data Science - Analisis Dataset Siswa"
   ]
  },
  {
   "cell_type": "code",
   "execution_count": null,
   "id": "9eea5ab5",
   "metadata": {},
   "outputs": [],
   "source": [
    "import pandas as pd\n",
    "import matplotlib.pyplot as plt\n",
    "import seaborn as sns\n",
    "from sklearn.linear_model import LinearRegression\n",
    "from sklearn.cluster import KMeans\n",
    "from sklearn.preprocessing import StandardScaler\n",
    "from sklearn.model_selection import train_test_split\n",
    "from sklearn.ensemble import RandomForestClassifier\n",
    "from sklearn.metrics import classification_report\n",
    "\n",
    "df = pd.read_csv(\"student-mat.csv\", sep=\";\")\n",
    "df.head()"
   ]
  },
  {
   "cell_type": "markdown",
   "id": "6a7b66ba",
   "metadata": {},
   "source": [
    "## 1. Exploratory Data Analysis (EDA)"
   ]
  },
  {
   "cell_type": "code",
   "execution_count": null,
   "id": "b6d1448d",
   "metadata": {},
   "outputs": [],
   "source": [
    "df.info()\n",
    "df.describe(include='all')"
   ]
  },
  {
   "cell_type": "code",
   "execution_count": null,
   "id": "ddb36286",
   "metadata": {},
   "outputs": [],
   "source": [
    "sns.histplot(df['G3'], kde=True, bins=15)\n",
    "plt.title(\"Distribusi Nilai Akhir G3\")\n",
    "plt.xlabel(\"G3\")\n",
    "plt.ylabel(\"Jumlah\")\n",
    "plt.show()"
   ]
  },
  {
   "cell_type": "markdown",
   "id": "167d78cc",
   "metadata": {},
   "source": [
    "## 2. Regresi Linear: Studytime vs G3"
   ]
  },
  {
   "cell_type": "code",
   "execution_count": null,
   "id": "333d59b5",
   "metadata": {},
   "outputs": [],
   "source": [
    "X = df[['studytime']]\n",
    "y = df['G3']\n",
    "reg = LinearRegression()\n",
    "reg.fit(X, y)\n",
    "\n",
    "sns.regplot(x='studytime', y='G3', data=df, ci=None, line_kws={'color': 'red'})\n",
    "plt.title('Regresi Linear antara Studytime dan G3')\n",
    "plt.show()"
   ]
  },
  {
   "cell_type": "markdown",
   "id": "49e763da",
   "metadata": {},
   "source": [
    "## 3. Clustering: Absences dan Studytime"
   ]
  },
  {
   "cell_type": "code",
   "execution_count": null,
   "id": "fac2c1a4",
   "metadata": {},
   "outputs": [],
   "source": [
    "scaler = StandardScaler()\n",
    "scaled = scaler.fit_transform(df[['absences', 'studytime']])\n",
    "kmeans = KMeans(n_clusters=3, random_state=42)\n",
    "df['cluster'] = kmeans.fit_predict(scaled)\n",
    "\n",
    "sns.scatterplot(data=df, x='absences', y='studytime', hue='cluster', palette='Set1')\n",
    "plt.title(\"Clustering Siswa\")\n",
    "plt.show()"
   ]
  },
  {
   "cell_type": "markdown",
   "id": "ca64e63c",
   "metadata": {},
   "source": [
    "## 4. Klasifikasi G3"
   ]
  },
  {
   "cell_type": "code",
   "execution_count": null,
   "id": "93f74e85",
   "metadata": {},
   "outputs": [],
   "source": [
    "df['G3_cat'] = pd.cut(df['G3'], bins=[-1,9,14,20], labels=['low','medium','high'])\n",
    "X = df[['studytime', 'absences', 'goout']]\n",
    "y = df['G3_cat']\n",
    "\n",
    "X_train, X_test, y_train, y_test = train_test_split(X, y, test_size=0.3, random_state=42)\n",
    "model = RandomForestClassifier(n_estimators=100, random_state=42)\n",
    "model.fit(X_train, y_train)\n",
    "y_pred = model.predict(X_test)\n",
    "print(classification_report(y_test, y_pred))"
   ]
  }
 ],
 "metadata": {},
 "nbformat": 4,
 "nbformat_minor": 5
}
